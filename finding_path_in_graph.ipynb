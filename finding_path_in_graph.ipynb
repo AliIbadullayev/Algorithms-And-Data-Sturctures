{
  "nbformat": 4,
  "nbformat_minor": 0,
  "metadata": {
    "colab": {
      "provenance": [],
      "collapsed_sections": [],
      "authorship_tag": "ABX9TyMYbqLsmTeAZN+ZyonZjDTl",
      "include_colab_link": true
    },
    "kernelspec": {
      "name": "python3",
      "display_name": "Python 3"
    },
    "language_info": {
      "name": "python"
    }
  },
  "cells": [
    {
      "cell_type": "markdown",
      "metadata": {
        "id": "view-in-github",
        "colab_type": "text"
      },
      "source": [
        "<a href=\"https://colab.research.google.com/github/AliIbadullayev/Algorithms-And-Data-Sturctures/blob/main/finding_path_in_graph.ipynb\" target=\"_parent\"><img src=\"https://colab.research.google.com/assets/colab-badge.svg\" alt=\"Open In Colab\"/></a>"
      ]
    },
    {
      "cell_type": "code",
      "source": [
        "from google.colab import files\n",
        "from io import StringIO \n",
        "from functools import partial\n",
        "from geopy.geocoders import Nominatim\n",
        "from math import radians, cos, sin, asin, sqrt\n",
        "\n",
        "import sys\n",
        "import pandas as pd\n",
        "import folium\n",
        "import time, copy"
      ],
      "metadata": {
        "id": "6zGpNWCssX7K"
      },
      "execution_count": null,
      "outputs": []
    },
    {
      "cell_type": "code",
      "source": [
        "# add red lines into map\n",
        "def add_red_lines(maps):\n",
        "  for index, row in df.iterrows():\n",
        "    first_city = row['Город1']\n",
        "    second_city = row['Город2']\n",
        "    folium.PolyLine([cities_coord[first_city], cities_coord[second_city]], color=\"red\", weight=2.5, opacity=1).add_to(maps)\n",
        "\n",
        "def add_cities_to_map(my_map, cities_list, cities_coord):\n",
        "  for row in cities_list:\n",
        "    print(row)\n",
        "    try:\n",
        "      locate = geolocator.geocode(row, timeout=2)\n",
        "      folium.Marker(\n",
        "          location=[locate.latitude, locate.longitude],\n",
        "          popup=row\n",
        "      ).add_to(my_map)\n",
        "      cities_coord[row] = [locate.latitude, locate.longitude]\n",
        "    except AttributeError:\n",
        "      print(\"Problem with data or cannot Geocode. \", row)\n",
        "\n",
        "def draw_shortest_path(path, maps):\n",
        "  if path != None:\n",
        "    for i in range(len(path) - 1):\n",
        "      folium.PolyLine([cities_coord[path[i]], cities_coord[path[i+1]]], color=\"green\", weight=2.5, opacity=1).add_to(maps)\n",
        "  else:\n",
        "    print(\"Shortest path not found =(\")\n",
        "  return maps  \n",
        "\n",
        "# Python 3 program to calculate Distance Between Two Points on Earth\n",
        "def distance(lat1, lat2, lon1, lon2):\n",
        "\t\n",
        "\t# The math module contains a function named\n",
        "\t# radians which converts from degrees to radians.\n",
        "\tlon1 = radians(lon1)\n",
        "\tlon2 = radians(lon2)\n",
        "\tlat1 = radians(lat1)\n",
        "\tlat2 = radians(lat2)\n",
        "\t\n",
        "\t# Haversine formula\n",
        "\tdlon = lon2 - lon1\n",
        "\tdlat = lat2 - lat1\n",
        "\ta = sin(dlat / 2)**2 + cos(lat1) * cos(lat2) * sin(dlon / 2)**2\n",
        "\n",
        "\tc = 2 * asin(sqrt(a))\n",
        "\t\n",
        "\t# Radius of earth in kilometers. Use 3956 for miles\n",
        "\tr = 6371\n",
        "\t\n",
        "\t# calculate the result\n",
        "\treturn(c * r)\n",
        " \n",
        "\n",
        "def find_dists(end):\n",
        "  dist_list = {}\n",
        "  location_end = cities_coord[end]\n",
        "  for city in cities_list:\n",
        "    if city == end:\n",
        "      continue\n",
        "    locate = cities_coord[city]\n",
        "    dist_list[city] = distance(location_end[0], locate[0], location_end[1], locate[1])\n",
        "  return dist_list\n",
        "\t\n"
      ],
      "metadata": {
        "id": "Zo287O0ksghQ"
      },
      "execution_count": null,
      "outputs": []
    },
    {
      "cell_type": "code",
      "source": [
        "def build_graph(_graph_, df):\n",
        "  for index, row in df.iterrows():\n",
        "    first_city = row['Город1']\n",
        "    second_city = row['Город2']\n",
        "    if (first_city not in _graph_):\n",
        "      _graph_[first_city]=[second_city]\n",
        "    else:\n",
        "      neighbours = _graph_[first_city]\n",
        "      if second_city not in neighbours:\n",
        "          neighbours.append(second_city)\n",
        "          _graph_[first_city] = neighbours\n",
        "\n",
        "  for index, row in df.iterrows():\n",
        "    first_city = row['Город2']\n",
        "    second_city = row['Город1']\n",
        "    if (first_city not in _graph_):\n",
        "      _graph_[first_city]=[second_city]\n",
        "    else:\n",
        "      neighbours = _graph_[first_city]\n",
        "      if second_city not in neighbours:\n",
        "          neighbours.append(second_city)\n",
        "          _graph_[first_city] = neighbours\n",
        "\n",
        "def build_weighted_graph(weighted_graph, df):\n",
        "  for index, row in df.iterrows():\n",
        "    first_city = row['Город1']\n",
        "    second_city = row['Город2']\n",
        "    dist = row['Расстояние']\n",
        "    if (first_city not in weighted_graph):\n",
        "      weighted_graph[first_city] = [[second_city,dist]]\n",
        "    else:\n",
        "      neighbours = weighted_graph[first_city]\n",
        "      if [second_city,dist] not in neighbours:\n",
        "        weighted_graph[first_city] = neighbours + [[second_city,dist]]\n",
        "\n",
        "  for index, row in df.iterrows():\n",
        "    first_city = row['Город2']\n",
        "    second_city = row['Город1']\n",
        "    dist = row['Расстояние']\n",
        "    if (first_city not in weighted_graph):\n",
        "      weighted_graph[first_city] = [[second_city,dist]]\n",
        "    else:\n",
        "      neighbours = weighted_graph[first_city]\n",
        "      if [second_city,dist] not in neighbours:\n",
        "        weighted_graph[first_city] = neighbours + [[second_city,dist]]\n",
        "\n",
        "# Add cities to set\n",
        "def add_cities_to_list(df):\n",
        "  cities = set()\n",
        "  for index, row in df.iterrows():\n",
        "    cities.add(row['Город1'])\n",
        "    cities.add(row['Город2'])\n",
        "  return cities"
      ],
      "metadata": {
        "id": "C1wNYIIG5BW3"
      },
      "execution_count": null,
      "outputs": []
    },
    {
      "cell_type": "code",
      "execution_count": null,
      "metadata": {
        "id": "6drwDHtHOUH-"
      },
      "outputs": [],
      "source": [
        "# uploaded = files.upload()\n",
        "\n",
        "geolocator = Nominatim(user_agent=\"MyApp\")\n",
        "graph = {}\n",
        "w_graph = {}\n",
        "cities_list = set()\n",
        "df = pd.read_csv('cities_new.csv', sep=';', header=0)\n",
        "\n",
        "# Add cities to set\n",
        "cities_list = add_cities_to_list(df)\n",
        "\n",
        "# Build graph\n",
        "build_graph(graph, df)\n",
        "build_weighted_graph(w_graph, df)\n",
        "\n",
        "# Initialize map\n",
        "cities_coord = {}\n",
        "\n",
        "my_map = folium.Map(\n",
        "    # It'is where map spawns\n",
        "    location=[53.148215249220826, 28.03951838029782],\n",
        "    zoom_start=4\n",
        ")\n",
        "\n",
        "add_cities_to_map(my_map, cities_list, cities_coord)\n",
        "add_red_lines(my_map)   \n"
      ]
    },
    {
      "cell_type": "markdown",
      "source": [
        "All algorithms"
      ],
      "metadata": {
        "id": "LVUeem9FnP5v"
      }
    },
    {
      "cell_type": "code",
      "source": [
        "# BFS ALGORITHM \n",
        "\n",
        "def bfs(graph, node1, node2):\n",
        "    path_list = [[node1]]\n",
        "    path_index = 0\n",
        "    # To keep track of previously visited nodes\n",
        "    previous_nodes = {node1}\n",
        "    if node1 == node2:\n",
        "        return path_list[0]\n",
        "\n",
        "    while path_index < len(path_list):\n",
        "        current_path = path_list[path_index]\n",
        "        last_node = current_path[-1]\n",
        "        next_nodes = graph[last_node]\n",
        "        # Search goal node\n",
        "        if node2 in next_nodes:\n",
        "            current_path.append(node2)\n",
        "            return current_path\n",
        "        # Add new paths\n",
        "        for next_node in next_nodes:\n",
        "            if not next_node in previous_nodes:\n",
        "                new_path = current_path[:]\n",
        "                new_path.append(next_node)\n",
        "                path_list.append(new_path)\n",
        "                # To avoid backtracking\n",
        "                previous_nodes.add(next_node)\n",
        "        # Continue to next path in list\n",
        "        path_index += 1\n",
        "\n",
        "    # No path is found\n",
        "    return []\n",
        "\n",
        "\n",
        "# DFS ALGORITHM\n",
        "stack_dfs = []\n",
        "visited_dfs = []\n",
        "def dfs(start, goal):\n",
        "    stack_dfs.clear()\n",
        "    visited_dfs.clear()\n",
        "    stack_dfs.append(start)\n",
        "    try:\n",
        "        DFS(start, goal)\n",
        "    except Exception:\n",
        "        return stack_dfs\n",
        "\n",
        "\n",
        "def DFS(node, end):\n",
        "    if node in visited_dfs:\n",
        "        return\n",
        "    visited_dfs.append(node)\n",
        "    for nodes in graph[node]:\n",
        "        stack_dfs.append(nodes)\n",
        "        DFS(nodes, end)\n",
        "        if nodes in visited_dfs:\n",
        "            stack_dfs.pop() \n",
        "    if node == end:\n",
        "        raise Exception(\"END OF RECURSION!\")\n",
        "\n",
        "# LIMITED DFS ALGORITHM\n",
        "stack_limited_dfs = list()\n",
        "visited_limited_dfs = list()\n",
        "def limited_dfs(start, goal, limit):\n",
        "    stack_limited_dfs.clear()\n",
        "    visited_limited_dfs.clear()\n",
        "    stack_limited_dfs.append(start)\n",
        "    try:\n",
        "        LIM_DFS(start, goal, limit)\n",
        "    except Exception:\n",
        "        return stack_limited_dfs\n",
        "\n",
        "\n",
        "def LIM_DFS(node, end, limit):\n",
        "    if len(stack_limited_dfs) > limit or node in visited_limited_dfs:\n",
        "        return\n",
        "    visited_limited_dfs.append(node)\n",
        "    for nodes in graph[node]:\n",
        "        stack_limited_dfs.append(nodes)\n",
        "        LIM_DFS(nodes, end, limit)\n",
        "        if len(stack_limited_dfs) :\n",
        "            stack_limited_dfs.pop() \n",
        "    if node == end :\n",
        "        raise Exception(\"END OF RECURSION!\")\n",
        "\n",
        "# GREEDY ALGORITHM\n",
        "def greedy(graph, start, end):\n",
        "  dists = find_dists(end)\n",
        "  temp = start\n",
        "  minval = sys.maxsize\n",
        "  mincity = None\n",
        "  visited_greedy=list()\n",
        "  visited_greedy.append(start)\n",
        "  while len(visited_greedy) < len(cities_list):\n",
        "    minval = sys.maxsize\n",
        "    for i in graph[temp]:\n",
        "      if i == end:\n",
        "        visited_greedy.append(end)\n",
        "        return visited_greedy\n",
        "      if (minval > dists[i] and i not in visited_greedy):\n",
        "        minval = dists[i]\n",
        "        mincity = i\n",
        "    if mincity not in visited_greedy:\n",
        "      visited_greedy.append(mincity)\n",
        "    temp = mincity\n",
        "    if temp == end:\n",
        "      return visited_greedy\n",
        "\n",
        "# A* ALGORITHM\n",
        "def a_star(graph, start, end):\n",
        "  dists = find_dists(end)\n",
        "\n",
        "  temp = start\n",
        "  temp_list = []\n",
        "  temp_list.append(start)\n",
        "  temp_dist = 0\n",
        "  priority = {}\n",
        "  \n",
        "  while True:\n",
        "    temp_temp_list = copy.copy(temp_list)\n",
        "    temp_temp_dist = copy.copy(temp_dist)\n",
        "    for city in graph[temp]: \n",
        "      if len(temp_list) == 1:\n",
        "        sum = int(city[1]+dists[city[0]])\n",
        "      else: \n",
        "        if (end == city[0]):\n",
        "          print(int(temp_dist - dists[temp] + city[1]))\n",
        "          temp_temp_list.append(city[0])\n",
        "          return temp_temp_list\n",
        "        sum = int(temp_dist - dists[temp] + city[1]+dists[city[0]])\n",
        "      temp_list.append(city[0])\n",
        "      priority[sum] = temp_list\n",
        "      temp_list = copy.copy(temp_temp_list)\n",
        "      temp_dist = copy.copy(temp_temp_dist)\n",
        "    priority = dict(sorted(priority.items()))\n",
        "    temp_dist = list(priority.keys())[0]\n",
        "    temp = priority[temp_dist][-1]\n",
        "    temp_list = priority[temp_dist]\n",
        "    del priority[temp_dist]\n",
        "\n"
      ],
      "metadata": {
        "id": "Lt-STjDnnOzg"
      },
      "execution_count": null,
      "outputs": []
    },
    {
      "cell_type": "markdown",
      "source": [
        "This block of code runs **bfs** algorithm"
      ],
      "metadata": {
        "id": "IlDzMQRI8GtY"
      }
    },
    {
      "cell_type": "code",
      "source": [
        "add_red_lines(my_map)\n",
        "shortest_path_bfs = bfs(graph, 'Мурманск', 'Одесса')\n",
        "draw_shortest_path(shortest_path_bfs, my_map)"
      ],
      "metadata": {
        "id": "yGJ3Pkd-qsMk"
      },
      "execution_count": null,
      "outputs": []
    },
    {
      "cell_type": "markdown",
      "source": [
        "This block of code runs **dfs** algorithm"
      ],
      "metadata": {
        "id": "fq3EZCDB77cJ"
      }
    },
    {
      "cell_type": "code",
      "source": [
        "add_red_lines(my_map)\n",
        "shortest_path_dfs = dfs('Мурманск', 'Одесса')\n",
        "print(shortest_path_dfs)\n",
        "draw_shortest_path(shortest_path_dfs, my_map)\n"
      ],
      "metadata": {
        "id": "7ada-6sTNngM"
      },
      "execution_count": null,
      "outputs": []
    },
    {
      "cell_type": "markdown",
      "source": [
        "This block of code runs **limited dfs** algorithm"
      ],
      "metadata": {
        "id": "_ifzW45B7o7D"
      }
    },
    {
      "cell_type": "code",
      "source": [
        "add_red_lines(my_map)\n",
        "\n",
        "shortest_path_limited_dfs = limited_dfs('Мурманск', 'Одесса', 7)\n",
        "print(shortest_path_limited_dfs)\n",
        "draw_shortest_path(shortest_path_limited_dfs, my_map)"
      ],
      "metadata": {
        "id": "BvwudFFfvsiA"
      },
      "execution_count": null,
      "outputs": []
    },
    {
      "cell_type": "markdown",
      "source": [
        "This block of code runs **iterated dfs** algorithm"
      ],
      "metadata": {
        "id": "eV3SIvwO7VqO"
      }
    },
    {
      "cell_type": "code",
      "source": [
        "add_red_lines(my_map)\n",
        "\n",
        "shortest_path_iterated_dfs = None\n",
        "limit = 0\n",
        "while shortest_path_iterated_dfs is None:\n",
        "  shortest_path_iterated_dfs = limited_dfs('Мурманск', 'Одесса', limit)\n",
        "  limit += 1\n",
        "print(shortest_path_iterated_dfs, '\\n', limit - 1)\n",
        "draw_shortest_path(shortest_path_iterated_dfs, my_map)"
      ],
      "metadata": {
        "id": "tY-ja8LM9oEW"
      },
      "execution_count": null,
      "outputs": []
    },
    {
      "cell_type": "markdown",
      "source": [
        "This block of code runs **greedy** algorithm"
      ],
      "metadata": {
        "id": "Ec1pTdwS21cZ"
      }
    },
    {
      "cell_type": "code",
      "source": [
        "add_red_lines(my_map)\n",
        "\n",
        "shortest_path_greedy = greedy(graph, 'Мурманск', 'Одесса')\n",
        "print(shortest_path_greedy)\n",
        "draw_shortest_path(shortest_path_greedy, my_map)\n"
      ],
      "metadata": {
        "id": "8mA9C7K6rcN4"
      },
      "execution_count": null,
      "outputs": []
    },
    {
      "cell_type": "markdown",
      "source": [
        "This block of code runs **A-star** algorithm"
      ],
      "metadata": {
        "id": "iKcTsuKt28r1"
      }
    },
    {
      "cell_type": "code",
      "source": [
        "add_red_lines(my_map)\n",
        "\n",
        "shortest_path_a_star = a_star(w_graph, 'Мурманск', 'Одесса')\n",
        "print(shortest_path_a_star)\n",
        "draw_shortest_path(shortest_path_a_star, my_map)"
      ],
      "metadata": {
        "id": "pcGZ6g_xquxl"
      },
      "execution_count": null,
      "outputs": []
    }
  ]
}